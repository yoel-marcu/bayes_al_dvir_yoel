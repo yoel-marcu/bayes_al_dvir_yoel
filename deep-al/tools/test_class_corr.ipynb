{
 "cells": [
  {
   "cell_type": "code",
   "id": "initial_id",
   "metadata": {
    "collapsed": true,
    "jupyter": {
     "is_executing": true
    }
   },
   "source": [
    "def add_path(path):\n",
    "    if path not in sys.path:\n",
    "        sys.path.insert(0, path)\n",
    "import os\n",
    "import sys\n",
    "add_path(os.path.abspath('..'))\n",
    "\n",
    "from tqdm import tqdm\n",
    "import pycls.datasets.utils as ds_utils\n",
    "import numpy as np\n",
    "import torch\n",
    "import seaborn as sns\n",
    "import matplotlib.animation as animation\n",
    "import matplotlib.pyplot as plt\n"
   ],
   "outputs": [],
   "execution_count": null
  },
  {
   "metadata": {},
   "cell_type": "code",
   "outputs": [],
   "execution_count": null,
   "source": [
    "\n",
    "def compute_norm(x1, x2, device, batch_size=512):\n",
    "    x1, x2 = x1.unsqueeze(0).to(device), x2.unsqueeze(0).to(device) # 1 x n x d, 1 x n' x d\n",
    "    dist_matrix = []\n",
    "    batch_round = x2.shape[1] // batch_size + int(x2.shape[1] % batch_size > 0)\n",
    "    for i in range(batch_round):\n",
    "        # distance comparisons are done in batches to reduce memory consumption\n",
    "        x2_subset = x2[:, i * batch_size: (i + 1) * batch_size]\n",
    "        dist = torch.cdist(x1, x2_subset, p=2.0) #.to(dtype=torch.float16)\n",
    "\n",
    "        dist_matrix.append(dist.cpu())\n",
    "        del dist\n",
    "\n",
    "    dist_matrix = torch.cat(dist_matrix, dim=-1).squeeze(0)\n",
    "    return dist_matrix\n",
    "\n",
    "class RBFKernel(object):\n",
    "    def __init__(self, device):\n",
    "        self.device = device\n",
    "\n",
    "    def compute_kernel(self, x1, x2, h=1.0, batch_size=512):\n",
    "        norm = compute_norm(x1, x2, self.device, batch_size=batch_size)\n",
    "        k = torch.exp(-1.0 * (norm / h) ** 2)\n",
    "        return k\n",
    "\n",
    "def get_max_mean_classes_corr(activeset):\n",
    "    num_classes = 100\n",
    "    class_sim_max = torch.zeros((num_classes, num_classes), device='cuda')\n",
    "    class_sim_mean = torch.zeros((num_classes, num_classes), device='cuda')\n",
    "    class_indices = {label: np.where(train_labels[activeset] == label)[0] for label in range(num_classes)}\n",
    "\n",
    "    for c1 in range(num_classes):\n",
    "        for c2 in range(c1, num_classes):\n",
    "            indices_c1 = class_indices.get(c1, [])\n",
    "            indices_c2 = class_indices.get(c2, [])\n",
    "\n",
    "            if not len(indices_c1) or not len(indices_c2):\n",
    "                continue\n",
    "\n",
    "            sim_submatrix = K[indices_c1, :][:, indices_c2]\n",
    "\n",
    "            if c1 == c2:\n",
    "                if len(indices_c1) > 1:\n",
    "                    # Exclude diagonal for intra-class similarity\n",
    "                    non_diagonal_mask = ~torch.eye(len(indices_c1), dtype=torch.bool,\n",
    "                                                   device=sim_submatrix.device)\n",
    "                    if non_diagonal_mask.any():\n",
    "                        class_sim_mean[c1, c1] = sim_submatrix[non_diagonal_mask].mean()\n",
    "                        class_sim_max[c1, c1] = sim_submatrix[non_diagonal_mask].max()\n",
    "            else:\n",
    "                mean_val = sim_submatrix.mean()\n",
    "                max_val = sim_submatrix.max()\n",
    "                class_sim_mean[c1, c2] = mean_val\n",
    "                class_sim_mean[c2, c1] = mean_val\n",
    "                class_sim_max[c1, c2] = max_val\n",
    "                class_sim_max[c2, c1] = max_val\n",
    "    return class_sim_max, class_sim_mean\n"
   ],
   "id": "fe15b3c8894a496"
  },
  {
   "metadata": {},
   "cell_type": "code",
   "outputs": [],
   "execution_count": null,
   "source": [
    "\n",
    "\n",
    "\n",
    "all_features = torch.from_numpy(ds_utils.load_features('CIFAR100', train=True))\n",
    "train_labels = np.load(\"/cs/labs/daphna/itai.david/py_repos/TypiClust/data/for_class_corr/cifar100_train_labels.npy\")\n",
    "kernel_fn = RBFKernel('cuda')\n",
    "K = kernel_fn.compute_kernel(all_features, all_features, 1).to('cuda')\n",
    "\n",
    "exp_path = \"/cs/labs/daphna/itai.david/py_repos/TypiClust/output/CIFAR100/resnet18/2025_8_14/CIFAR100_all_misp_from_features_2025_8_14_104059_635817/\"\n",
    "\n"
   ],
   "id": "2441c77dbf6da0ff"
  },
  {
   "metadata": {},
   "cell_type": "code",
   "outputs": [],
   "execution_count": null,
   "source": [
    "episodes_num = 32\n",
    "\n",
    "max_matrices = []\n",
    "mean_matrices = []\n",
    "\n",
    "for ep in tqdm(range(episodes_num)):\n",
    "    cur_path = exp_path + f\"episode_{ep}/\" + 'activeSet.npy'\n",
    "    cur_active_set = np.load(cur_path)\n",
    "    cur_max_mat, cur_mean_mat = get_max_mean_classes_corr(cur_active_set)\n",
    "    max_matrices.append(cur_max_mat.cpu().numpy())\n",
    "    mean_matrices.append(cur_mean_mat.cpu().numpy())"
   ],
   "id": "771a2b629081fe48"
  },
  {
   "metadata": {},
   "cell_type": "code",
   "outputs": [],
   "execution_count": null,
   "source": [
    "#visualize part\n",
    "\n",
    "fig, ax = plt.subplots()\n",
    "\n",
    "def update(frame, corr_matrices):\n",
    "    ax.clear()\n",
    "    sns.heatmap(corr_matrices[frame], vmin=-1, vmax=1, cmap=\"coolwarm\", ax=ax, cbar=False)\n",
    "    ax.set_title(f\"Time {frame}\")\n",
    "\n",
    "wrap_max_update = lambda frame : update(frame, max_matrices)\n",
    "wrap_mean_update = lambda frame : update(frame, mean_matrices)\n",
    "\n",
    "max_ani = animation.FuncAnimation(fig, wrap_max_update, frames=len(max_matrices))\n",
    "# max_ani.save(\"correlation_dynamics.gif\", dpi=100, writer=\"imagemagick\")\n",
    "# HTML(max_ani.to_jshtml())\n",
    "plt.show()"
   ],
   "id": "64d4d677f42f4e15"
  }
 ],
 "metadata": {
  "kernelspec": {
   "display_name": "Python 3",
   "language": "python",
   "name": "python3"
  },
  "language_info": {
   "codemirror_mode": {
    "name": "ipython",
    "version": 2
   },
   "file_extension": ".py",
   "mimetype": "text/x-python",
   "name": "python",
   "nbconvert_exporter": "python",
   "pygments_lexer": "ipython2",
   "version": "2.7.6"
  }
 },
 "nbformat": 4,
 "nbformat_minor": 5
}
